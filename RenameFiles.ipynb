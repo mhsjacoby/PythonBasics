{
 "cells": [
  {
   "cell_type": "code",
   "execution_count": null,
   "metadata": {},
   "outputs": [],
   "source": [
    "# os.rename(r'file path\\OLD file name.file type',r'file path\\NEW file name.file type')"
   ]
  },
  {
   "cell_type": "code",
   "execution_count": 1,
   "metadata": {},
   "outputs": [],
   "source": [
    "import os"
   ]
  },
  {
   "cell_type": "code",
   "execution_count": 2,
   "metadata": {},
   "outputs": [],
   "source": [
    "def mylistdir(directory, bit='', end=True):\n",
    "    filelist = os.listdir(directory)\n",
    "    if end:\n",
    "        return [x for x in filelist if x.endswith(f'{bit}')]\n",
    "    else:\n",
    "         return [x for x in filelist if x.startswith(f'{bit}')]"
   ]
  },
  {
   "cell_type": "code",
   "execution_count": 32,
   "metadata": {},
   "outputs": [],
   "source": [
    "path_dir = '/Volumes/TOSHIBA-12/H5-red'\n",
    "\n",
    "home = path_dir.split('/')[-1].split('-')[0]\n",
    "\n",
    "for hub in mylistdir(path_dir, bit='RS', end=False):\n",
    "    for audio_type in mylistdir(os.path.join(path_dir, hub, 'processed_audio'), bit='audio_', end=False):\n",
    "        for day in mylistdir(os.path.join(path_dir, hub, 'processed_audio', audio_type), bit='2019-', end=False):\n",
    "            file_path = os.path.join(path_dir, hub, 'processed_audio', audio_type, day)\n",
    "            for fname in mylistdir(file_path, bit='.npz', end=True):\n",
    "#                 print(home, hub, audio_type, day, fname)\n",
    "                f_hr, f_ext = fname.split('_')\n",
    "                name = f'{day}_{f_hr}_{hub}_{home}_{f_ext}'\n",
    "                old_fname = os.path.join(file_path, fname)\n",
    "                new_fname = os.path.join(file_path, name)\n",
    "                os.rename(old_fname, new_fname)\n",
    "            \n",
    "        \n",
    "#         2019-06-06_1000_RS5_H5_audio.pklz\n",
    "#         2019-06-03_1800_RS5_H5.pklz"
   ]
  }
 ],
 "metadata": {
  "kernelspec": {
   "display_name": "Python 3",
   "language": "python",
   "name": "python3"
  },
  "language_info": {
   "codemirror_mode": {
    "name": "ipython",
    "version": 3
   },
   "file_extension": ".py",
   "mimetype": "text/x-python",
   "name": "python",
   "nbconvert_exporter": "python",
   "pygments_lexer": "ipython3",
   "version": "3.7.4"
  }
 },
 "nbformat": 4,
 "nbformat_minor": 4
}
