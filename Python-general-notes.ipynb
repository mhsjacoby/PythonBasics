{
 "cells": [
  {
   "cell_type": "markdown",
   "metadata": {},
   "source": [
    "Maggie Jacoby, 2020"
   ]
  },
  {
   "cell_type": "markdown",
   "metadata": {},
   "source": [
    "***\n",
    "# General notes about Python\n",
    "***"
   ]
  },
  {
   "cell_type": "markdown",
   "metadata": {},
   "source": [
    "### Adding to python path\n",
    "```$ nano /etc/paths```"
   ]
  },
  {
   "cell_type": "markdown",
   "metadata": {},
   "source": [
    "### string and date formatting\n",
    "\n",
    "**strftime**: datetime object -> string\n",
    "\n",
    "**strptime**: string -> datetime object\n",
    "\n",
    "```python\n",
    "from datetime import datetime\n",
    "date = datetime.now()\n",
    "date_as_string = date.strftime('%Y-%m-%d %H%M') # '%Y-%m-%d %H%M' is the format you WANT it to be in\n",
    "date_as_dt_object = datetime.strptime(date_as_string, '%Y-%m-%d %H%M') #'%Y-%m-%d %H%M' is the format it IS in\n",
    "```\n"
   ]
  },
  {
   "cell_type": "markdown",
   "metadata": {},
   "source": [
    "### Sorting\n",
    "\n",
    "- ```sorted(x)``` method sorts the given sequence (x) either in ascending order or in descending order and always return the a sorted list. Can be done with different datatypes and on different metrics. \n",
    "\n",
    "- ```x.sort()``` returns nothing and changes x. Moreover, sort() is a method of list class and can only be used with lists.\n",
    "\n",
    "ref: https://www.geeksforgeeks.org/python-difference-between-sorted-and-sort/"
   ]
  },
  {
   "cell_type": "markdown",
   "metadata": {},
   "source": [
    "### Formatting Decimals\n",
    "\n",
    "```python\n",
    "total = total_captured/self.total_per_day\n",
    "T_perc = 'f{total:.2}'\n",
    "\n",
    "f'{value:{width}.{precision}}'\n",
    "```\n",
    "ref: https://stackoverflow.com/questions/45310254/fixed-digits-after-decimal-with-f-strings\n",
    "\n",
    "\n",
    "\n",
    "### Writing Text Files\n",
    "\n",
    "```python\n",
    "fname = f'/Users/maggie/Desktop/percent_in_3sigma_{col}.txt'\n",
    "with open (fname, 'w+') as writer:\n",
    "    .\n",
    "    .\n",
    "    .\n",
    "    writer.write(f'total, {np.mean(total)}\\n')\n",
    "    writer.close()\n",
    "```\n",
    "\n",
    "\n"
   ]
  },
  {
   "cell_type": "markdown",
   "metadata": {},
   "source": [
    "### Read in from a CSV\n",
    "\n",
    "```python\n",
    "import csv\n",
    "\n",
    "with open('/Users/maggie/Documents/Maggie-Grad-School/ARPA-e-ResearchProject/FFA-DoE/iris_full_runs.csv') as file:\n",
    "    reader = csv.reader(file)\n",
    "    for row in reader:\n",
    "        print(row)\n",
    "```"
   ]
  },
  {
   "cell_type": "markdown",
   "metadata": {},
   "source": [
    "### Merging two dictionaries\n"
   ]
  },
  {
   "cell_type": "markdown",
   "metadata": {},
   "source": [
    "```python\n",
    "L1 = ['a', 'b', 'c', 'd']\n",
    "L2 = ['x', 'y', 'z']\n",
    "\n",
    "d1 = {x:i for i,x in enumerate(L1)}\n",
    "d2 = {x:i for i,x in enumerate(L2, len(L1))} #eunmerates starting at length of L1\n",
    "```\n",
    "\n",
    "#### update method (updates d2 inplace)\n",
    "\n",
    "```d2.update(d1)```\n",
    "\n",
    "#### \\**method (returns third dictionary, does not modify d1, d2)\n",
    "\n",
    "```d3 = {**d1, **d2}```"
   ]
  },
  {
   "cell_type": "markdown",
   "metadata": {},
   "source": [
    "### Rename a bunch of files\n",
    "\n",
    "```python\n",
    "path_dir = '/Volumes/TOSHIBA-12/H5-red'\n",
    "\n",
    "home = path_dir.strip('/').split('/')[-1].split('-')[0]\n",
    "\n",
    "for hub in mylistdir(path_dir, bit='RS', end=False):\n",
    "    for audio_type in mylistdir(os.path.join(path_dir, hub, 'processed_audio'), bit='audio_', end=False):\n",
    "        for day in mylistdir(os.path.join(path_dir, hub, 'processed_audio', audio_type), bit='2019-', end=False):\n",
    "            file_path = os.path.join(path_dir, hub, 'processed_audio', audio_type, day)\n",
    "            for fname in mylistdir(file_path, bit='.npz', end=True):\n",
    "                f_hr, f_ext = fname.split('_')\n",
    "                new = f'{day}_{f_hr}_{hub}_{home}_{f_ext}'\n",
    "                old_fname = os.path.join(file_path, fname)\n",
    "                new_fname = os.path.join(file_path, new)\n",
    "                os.rename(old_fname, new_fname)\n",
    "```"
   ]
  },
  {
   "cell_type": "markdown",
   "metadata": {},
   "source": [
    "***"
   ]
  },
  {
   "cell_type": "markdown",
   "metadata": {},
   "source": [
    "### Some of my favorite little functions\n",
    "\n",
    "```python\n",
    "def make_storage_directory(target_dir):\n",
    "    if not os.path.exists(target_dir):\n",
    "        os.makedirs(target_dir)\n",
    "    return target_dir\n",
    "\n",
    "\n",
    "def mylistdir(directory, bit='', end=True):\n",
    "    filelist = os.listdir(directory)\n",
    "    if end:\n",
    "        return [x for x in filelist if x.endswith(f'{bit}')]\n",
    "    else:\n",
    "         return [x for x in filelist if x.startswith(f'{bit}')]\n",
    "```"
   ]
  },
  {
   "cell_type": "markdown",
   "metadata": {},
   "source": [
    "### Ternary Operator\n",
    "`[on_true] if [expression] else [on_false]`\n",
    "\n",
    "\n"
   ]
  },
  {
   "cell_type": "markdown",
   "metadata": {},
   "source": [
    "***\n",
    "***\n",
    "# Pandas\n",
    "***"
   ]
  },
  {
   "cell_type": "markdown",
   "metadata": {},
   "source": [
    "### Change value with .loc\n",
    "\n",
    "\n",
    "```python\n",
    "df.loc[df.rh_percent > limit, 'rh_percent'] = np.NaN\n",
    "```\n",
    "\n",
    "replaces all values in  ```df['rh_percent']``` that are greater than ```limit``` with ```np.NaN``` "
   ]
  },
  {
   "cell_type": "markdown",
   "metadata": {},
   "source": [
    "### Drop or replace values\n",
    "\n",
    "drop the last 24 rows of data from the df or series ```Baseline```\n",
    "```python\n",
    "Baseline = Baseline.drop(Baseline.tail(24).index)\n",
    "```\n",
    "\n",
    "drop particular rows:\n",
    "```python\n",
    "df = df.drop(columns = ['str_datetime', 'time'])\n",
    "```"
   ]
  },
  {
   "cell_type": "markdown",
   "metadata": {},
   "source": [
    "### Code for creating a toy df \n",
    "\n",
    "look here too: https://realpython.com/python-pandas-tricks/#2-make-toy-data-structures-with-pandas-testing-module"
   ]
  },
  {
   "cell_type": "code",
   "execution_count": null,
   "metadata": {},
   "outputs": [],
   "source": []
  },
  {
   "cell_type": "markdown",
   "metadata": {},
   "source": [
    "```python\n",
    "import pandas as pd\n",
    "import numpy as np\n",
    "\n",
    "ind = pd.Index([pd.Timestamp('2019-03-17'), \n",
    "                pd.Timestamp('2019-03-18'), \n",
    "                pd.Timestamp('2019-03-20'),\n",
    "                pd.Timestamp('2019-03-21'),\n",
    "                pd.Timestamp('2019-03-22'),\n",
    "                pd.Timestamp('2019-03-24'),\n",
    "                pd.Timestamp('2019-03-25')])\n",
    "data = {'col':[25,25,24,3,25,24, np.nan]}\n",
    "df = pd.DataFrame(data, ind)\n",
    "```"
   ]
  },
  {
   "cell_type": "raw",
   "metadata": {},
   "source": [
    "             col\n",
    "2019-03-17  25.0\n",
    "2019-03-18  25.0\n",
    "2019-03-20  24.0\n",
    "2019-03-21   3.0\n",
    "2019-03-22  25.0\n",
    "2019-03-24  24.0\n",
    "2019-03-25   NaN\n"
   ]
  },
  {
   "cell_type": "markdown",
   "metadata": {},
   "source": [
    "### Make a pandas range of dates\n",
    "\n",
    "```python\n",
    "def make_date_range(day1, dayn = None, t1 = '0000', tn = '2359', f='10s'):\n",
    "    range_start = str(day1 + ' ' + t1[0:2] + ':' + t1[2:4] + ':00')\n",
    "    range_end = str(day1 + ' ' + tn[0:2] + ':' + tn[2:4] + ':50')\n",
    "    date_range = pd.date_range(start=range_start, end=range_end, freq=f)\n",
    "    return date_range   \n",
    "\n",
    "day_one = make_date_range(day1 = '2019-03-17')\n",
    "```"
   ]
  },
  {
   "cell_type": "markdown",
   "metadata": {},
   "source": [
    "for bringing up an interactive console outside jupyter (helpful for copying to output)\n",
    "\n",
    "```%qtconsole```"
   ]
  },
  {
   "cell_type": "markdown",
   "metadata": {},
   "source": [
    "***\n",
    "***\n",
    "# Plotting\n",
    "***"
   ]
  },
  {
   "cell_type": "markdown",
   "metadata": {},
   "source": [
    "Plotting with Seaborn\n",
    "\n",
    "```python\n",
    "import matplotlib.pyplot as plt\n",
    "%matplotlib inline\n",
    "import seaborn as sns\n",
    "\n",
    "from pandas.plotting import register_matplotlib_converters\n",
    "register_matplotlib_converters()\n",
    "\n",
    "# plt.rcParams['figure.figsize']=(18, 10)\n",
    "# sns.set()\n",
    "# sns.set_context()\n",
    "# sns.set_palette(sns.color_palette(\"deep\"))\n",
    "\n",
    "def PlotTemps(df, name):\n",
    "    print(f'Plotting {name} temperature')\n",
    "    ax = sns.relplot(x='time', y='temp_c', hue='hub', kind='scatter', linewidth=0.05, height=8, aspect=3, data=df, s=30);\n",
    "    ax.set(xlim=(df['time'].min(), df['time'].max()))\n",
    "    plt.xlabel('Date', fontsize=24)\n",
    "    plt.ylabel('Temperature C', fontsize=24)\n",
    "    plt.title(name, fontsize=38)\n",
    "    ax.savefig(f'/Users/maggie/Desktop/data_exploration_images/temp/{name}.png')\n",
    "\n",
    "```"
   ]
  },
  {
   "cell_type": "markdown",
   "metadata": {},
   "source": [
    "### Kaitlyn's matplotlib preamble\n",
    "\n",
    "```python\n",
    "import matplotlib as mpl\n",
    "import matplotlib.pyplot as plt\n",
    "\n",
    "mpl_update = {\n",
    "    'font.size': 16,\n",
    "    'xtick.labelsize': 14,\n",
    "    'ytick.labelsize': 14,\n",
    "    'figure.figsize': [12.0, 8.0],\n",
    "    'axes.labelsize': 20,\n",
    "    'axes.titlesize': 20,\n",
    "    'lines.linewidth': 3,\n",
    "}\n",
    "mpl.rcParams.update(mpl_update)\n",
    "```\n",
    "\n",
    "\n",
    "### Currently using\n",
    "```python\n",
    "sns.set(style='white', rc={\"axes.titlesize\":24,\"axes.labelsize\":20, \"legend.fontsize\":18, \"legend.markerscale\":2.5, \"xtick.labelsize\":20, \"ytick.labelsize\" : 18})\n",
    "```"
   ]
  },
  {
   "cell_type": "markdown",
   "metadata": {},
   "source": [
    "***\n",
    "***\n",
    "# Git\n",
    "***"
   ]
  },
  {
   "cell_type": "markdown",
   "metadata": {},
   "source": [
    "### Creating a new repo\n",
    "\n",
    "\n",
    "- `$ git init` the directory\n",
    "- `$ git add .` all files\n",
    "- commit\n",
    "- create new repo in github \n",
    "- `$ git remote add origin <github location>`\n",
    "- `$ git push -u origin master`\n",
    "\n",
    "\n",
    "ref: https://kbroman.org/github_tutorial/pages/init.html"
   ]
  },
  {
   "cell_type": "markdown",
   "metadata": {},
   "source": [
    "### Remove and stop tracking files in a repo (eg, .DS_Store)  \n",
    "\n",
    "- Create a .gitignore file and add all files to untrack\n",
    "- push changes\n",
    "-\n",
    "```\n",
    "$ git rm -r --cached .\n",
    "```\n",
    "- add and commit\n",
    "\n",
    "ref:  \n",
    "http://www.codeblocq.com/2016/01/Untrack-files-already-added-to-git-repository-based-on-gitignore/  \n",
    "https://www.pluralsight.com/guides/how-to-use-gitignore-file )\n",
    "\n",
    "### Files to add to .gitignore\n",
    "\n",
    "```\n",
    "*/.ipynb_checkpoints\n",
    "*/.DS_Store\n",
    ".DS_Store\n",
    ".ipynb_checkpoints\n",
    ".gitignore\n",
    "__pycache__\n",
    ".gitattributes\n",
    "```\n",
    "\n",
    "\n",
    "### Add to .gitattributes\n",
    "```\n",
    "*.ipynb linguist-language=Python\n",
    "```\n"
   ]
  },
  {
   "cell_type": "markdown",
   "metadata": {},
   "source": [
    "***\n",
    "## Branching"
   ]
  },
  {
   "cell_type": "markdown",
   "metadata": {},
   "source": [
    "### Make and switch to new branch\n",
    "\n",
    "```\n",
    "$ git checkout -b check_pi\n",
    "```\n",
    "ref: https://git-scm.com/book/en/v2/Git-Branching-Basic-Branching-and-Merging"
   ]
  },
  {
   "cell_type": "markdown",
   "metadata": {},
   "source": [
    "### Merging\n",
    "\n",
    "After updating branch `Maggie-Edits`:\n",
    "\n",
    "\n",
    "```\n",
    "    $ git checkout master\n",
    "    $ git merge Maggie-Edits\n",
    "```\n",
    "\n",
    "\n",
    "If you start a merge and then want to cancel it: `$ git merge --abort`\n",
    "\n",
    "ref: https://www.oreilly.com/library/view/git-pocket-guide/9781449327507/ch07.html"
   ]
  },
  {
   "cell_type": "markdown",
   "metadata": {},
   "source": [
    "### Delete branch\n",
    "(locally)\n",
    "\n",
    "```\n",
    "$ git branch --delete <branch> \n",
    "```\n",
    "\n",
    "ref: https://gist.github.com/cmatskas/454e3369e6963a1c8c89"
   ]
  }
 ],
 "metadata": {
  "kernelspec": {
   "display_name": "Python 3",
   "language": "python",
   "name": "python3"
  },
  "language_info": {
   "codemirror_mode": {
    "name": "ipython",
    "version": 3
   },
   "file_extension": ".py",
   "mimetype": "text/x-python",
   "name": "python",
   "nbconvert_exporter": "python",
   "pygments_lexer": "ipython3",
   "version": "3.7.4"
  }
 },
 "nbformat": 4,
 "nbformat_minor": 4
}
