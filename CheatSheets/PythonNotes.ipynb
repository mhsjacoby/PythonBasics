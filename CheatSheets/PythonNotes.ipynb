{
 "cells": [
  {
   "cell_type": "markdown",
   "metadata": {},
   "source": [
    "Maggie Jacoby, 2020"
   ]
  },
  {
   "cell_type": "markdown",
   "metadata": {},
   "source": [
    "***\n",
    "# General Python Notes\n",
    "***"
   ]
  },
  {
   "cell_type": "markdown",
   "metadata": {},
   "source": [
    "### Adding to python path\n",
    "```$ nano /etc/paths```"
   ]
  },
  {
   "cell_type": "markdown",
   "metadata": {},
   "source": [
    "### string and date formatting\n",
    "\n",
    "**strftime**: datetime object -> string\n",
    "\n",
    "**strptime**: string -> datetime object\n",
    "\n",
    "```python\n",
    "from datetime import datetime\n",
    "date = datetime.now()\n",
    "date_as_string = date.strftime('%Y-%m-%d %H%M') # '%Y-%m-%d %H%M' is the format you WANT it to be in\n",
    "date_as_dt_object = datetime.strptime(date_as_string, '%Y-%m-%d %H%M') #'%Y-%m-%d %H%M' is the format it IS in\n",
    "```\n"
   ]
  },
  {
   "cell_type": "markdown",
   "metadata": {},
   "source": [
    "### Sorting\n",
    "\n",
    "- ```sorted(x)``` method sorts the given sequence (x) either in ascending order or in descending order and always return the a sorted list. Can be done with different datatypes and on different metrics. \n",
    "\n",
    "- ```x.sort()``` returns nothing and changes x. Moreover, sort() is a method of list class and can only be used with lists.\n",
    "\n",
    "ref: https://www.geeksforgeeks.org/python-difference-between-sorted-and-sort/"
   ]
  },
  {
   "cell_type": "markdown",
   "metadata": {},
   "source": [
    "### Formatting Decimals\n",
    "\n",
    "```python\n",
    "total = total_captured/self.total_per_day\n",
    "T_perc = 'f{total:.2}'\n",
    "\n",
    "f'{value:{width}.{precision}}'\n",
    "```\n",
    "ref: https://stackoverflow.com/questions/45310254/fixed-digits-after-decimal-with-f-strings\n",
    "\n",
    "\n",
    "\n",
    "### Writing Text Files\n",
    "\n",
    "```python\n",
    "fname = f'/Users/maggie/Desktop/percent_in_3sigma_{col}.txt'\n",
    "with open (fname, 'w+') as writer:\n",
    "    .\n",
    "    .\n",
    "    .\n",
    "    writer.write(f'total, {np.mean(total)}\\n')\n",
    "    writer.close()\n",
    "```\n",
    "\n",
    "\n"
   ]
  },
  {
   "cell_type": "markdown",
   "metadata": {},
   "source": [
    "### Read in from a CSV\n",
    "\n",
    "```python\n",
    "import csv\n",
    "\n",
    "with open('/Users/maggie/Documents/Maggie-Grad-School/ARPA-e-ResearchProject/FFA-DoE/iris_full_runs.csv') as file:\n",
    "    reader = csv.reader(file)\n",
    "    for row in reader:\n",
    "        print(row)\n",
    "```"
   ]
  },
  {
   "cell_type": "markdown",
   "metadata": {},
   "source": [
    "### Merging two dictionaries\n"
   ]
  },
  {
   "cell_type": "markdown",
   "metadata": {},
   "source": [
    "```python\n",
    "L1 = ['a', 'b', 'c', 'd']\n",
    "L2 = ['x', 'y', 'z']\n",
    "\n",
    "d1 = {x:i for i,x in enumerate(L1)}\n",
    "d2 = {x:i for i,x in enumerate(L2, len(L1))} #eunmerates starting at length of L1\n",
    "```\n",
    "\n",
    "#### update method (updates d2 inplace)\n",
    "\n",
    "```d2.update(d1)```\n",
    "\n",
    "#### \\**method (returns third dictionary, does not modify d1, d2)\n",
    "\n",
    "```d3 = {**d1, **d2}```"
   ]
  },
  {
   "cell_type": "markdown",
   "metadata": {},
   "source": [
    "***\n",
    "### File Handling with Python"
   ]
  },
  {
   "cell_type": "markdown",
   "metadata": {},
   "source": [
    "#### Rename a bunch of files\n",
    "\n",
    "```python\n",
    "path_dir = '/Volumes/TOSHIBA-12/H5-red'\n",
    "\n",
    "home = path_dir.strip('/').split('/')[-1].split('-')[0]\n",
    "\n",
    "for hub in mylistdir(path_dir, bit='RS', end=False):\n",
    "    for audio_type in mylistdir(os.path.join(path_dir, hub, 'processed_audio'), bit='audio_', end=False):\n",
    "        for day in mylistdir(os.path.join(path_dir, hub, 'processed_audio', audio_type), bit='2019-', end=False):\n",
    "            file_path = os.path.join(path_dir, hub, 'processed_audio', audio_type, day)\n",
    "            for fname in mylistdir(file_path, bit='.npz', end=True):\n",
    "                f_hr, f_ext = fname.split('_')\n",
    "                new = f'{day}_{f_hr}_{hub}_{home}_{f_ext}'\n",
    "                old_fname = os.path.join(file_path, fname)\n",
    "                new_fname = os.path.join(file_path, new)\n",
    "                os.rename(old_fname, new_fname)\n",
    "```"
   ]
  },
  {
   "cell_type": "markdown",
   "metadata": {},
   "source": [
    "***"
   ]
  },
  {
   "cell_type": "markdown",
   "metadata": {},
   "source": [
    "### Some of my favorite little functions\n",
    "Located in `/BasicPythonToolsFucntions/my_functions.py` and included in path"
   ]
  },
  {
   "cell_type": "markdown",
   "metadata": {},
   "source": [
    "Lists all of the files in a directory that end (or start) with `bit`\n",
    "\n",
    "```python\n",
    "def mylistdir(directory, bit='', end=True):\n",
    "    filelist = os.listdir(directory)\n",
    "    if end:\n",
    "        return [x for x in filelist if x.endswith(f'{bit}') and not x.endswith('.DS_Store') and not x.startswith('Icon')]\n",
    "    else:\n",
    "         return [x for x in filelist if x.startswith(f'{bit}') and not x.endswith('.DS_Store') and not x.startswith('Icon')]\n",
    "```"
   ]
  },
  {
   "cell_type": "markdown",
   "metadata": {},
   "source": [
    "Names a storage directory and creates all sub directory if it doesn't exist\n",
    "\n",
    "```python\n",
    "def make_storage_directory(target_dir):\n",
    "    if not os.path.exists(target_dir):\n",
    "        os.makedirs(target_dir)\n",
    "    return target_dir\n",
    "```"
   ]
  },
  {
   "cell_type": "markdown",
   "metadata": {},
   "source": [
    "### Ternary Operator\n",
    "`[on_true] if [expression] else [on_false]`\n",
    "\n",
    "\n"
   ]
  }
 ],
 "metadata": {
  "kernelspec": {
   "display_name": "Python 3",
   "language": "python",
   "name": "python3"
  },
  "language_info": {
   "codemirror_mode": {
    "name": "ipython",
    "version": 3
   },
   "file_extension": ".py",
   "mimetype": "text/x-python",
   "name": "python",
   "nbconvert_exporter": "python",
   "pygments_lexer": "ipython3",
   "version": "3.7.4"
  }
 },
 "nbformat": 4,
 "nbformat_minor": 4
}
