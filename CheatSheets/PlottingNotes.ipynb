{
 "cells": [
  {
   "cell_type": "markdown",
   "metadata": {},
   "source": [
    "Maggie Jacoby, 2020"
   ]
  },
  {
   "cell_type": "markdown",
   "metadata": {},
   "source": [
    "***\n",
    "# Plotting Notes\n",
    "***"
   ]
  },
  {
   "cell_type": "markdown",
   "metadata": {},
   "source": [
    "### Plotting with Seaborn\n",
    "\n",
    "```python\n",
    "import matplotlib.pyplot as plt\n",
    "%matplotlib inline\n",
    "import seaborn as sns\n",
    "\n",
    "from pandas.plotting import register_matplotlib_converters\n",
    "register_matplotlib_converters()\n",
    "\n",
    "# plt.rcParams['figure.figsize']=(18, 10)\n",
    "# sns.set()\n",
    "# sns.set_context()\n",
    "# sns.set_palette(sns.color_palette(\"deep\"))\n",
    "\n",
    "def PlotTemps(df, name):\n",
    "    print(f'Plotting {name} temperature')\n",
    "    ax = sns.relplot(x='time', y='temp_c', hue='hub', kind='scatter', linewidth=0.05, height=8, aspect=3, data=df, s=30);\n",
    "    ax.set(xlim=(df['time'].min(), df['time'].max()))\n",
    "    plt.xlabel('Date', fontsize=24)\n",
    "    plt.ylabel('Temperature C', fontsize=24)\n",
    "    plt.title(name, fontsize=38)\n",
    "    ax.savefig(f'/Users/maggie/Desktop/data_exploration_images/temp/{name}.png')\n",
    "\n",
    "```"
   ]
  },
  {
   "cell_type": "markdown",
   "metadata": {},
   "source": [
    "### Kaitlyn's matplotlib preamble\n",
    "\n",
    "```python\n",
    "import matplotlib as mpl\n",
    "import matplotlib.pyplot as plt\n",
    "\n",
    "mpl_update = {\n",
    "    'font.size': 16,\n",
    "    'xtick.labelsize': 14,\n",
    "    'ytick.labelsize': 14,\n",
    "    'figure.figsize': [12.0, 8.0],\n",
    "    'axes.labelsize': 20,\n",
    "    'axes.titlesize': 20,\n",
    "    'lines.linewidth': 3,\n",
    "}\n",
    "mpl.rcParams.update(mpl_update)\n",
    "```\n",
    "\n",
    "\n",
    "### Currently using\n",
    "```python\n",
    "sns.set(style='white', rc={\"axes.titlesize\":24,\"axes.labelsize\":20, \"legend.fontsize\":18, \"legend.markerscale\":2.5, \"xtick.labelsize\":20, \"ytick.labelsize\" : 18})\n",
    "```"
   ]
  },
  {
   "cell_type": "code",
   "execution_count": null,
   "metadata": {},
   "outputs": [],
   "source": [
    "plt.rcParams['figure.figsize']=(8,6)\n",
    "sns.set_style(\"white\")\n",
    "\n",
    "sns.set_context(\"paper\", font_scale=2.7, rc={'lines.linewidth':2})"
   ]
  },
  {
   "cell_type": "code",
   "execution_count": 1,
   "metadata": {},
   "outputs": [
    {
     "data": {
      "image/png": "[encoded data removed]",
      "text/plain": [
       "<Figure size 216x72 with 1 Axes>"
      ]
     },
     "metadata": {
      "needs_background": "light"
     },
     "output_type": "display_data"
    },
    {
     "data": {
      "image/png": "[encoded data removed]",
      "text/plain": [
       "<Figure size 216x72 with 1 Axes>"
      ]
     },
     "metadata": {
      "needs_background": "light"
     },
     "output_type": "display_data"
    }
   ],
   "source": [
    "import seaborn as sns\n",
    "sns.palplot(sns.color_palette(\"crest\")[0])\n",
    "sns.palplot(sns.color_palette(\"crest\")[-1])"
   ]
  },
  {
   "cell_type": "code",
   "execution_count": 6,
   "metadata": {},
   "outputs": [
    {
     "data": {
      "image/png": "[encoded data removed]",
      "text/plain": [
       "<Figure size 216x72 with 1 Axes>"
      ]
     },
     "metadata": {
      "needs_background": "light"
     },
     "output_type": "display_data"
    }
   ],
   "source": [
    "sns.palplot(sns.color_palette(\"flare\")[0])"
   ]
  }
 ],
 "metadata": {
  "kernelspec": {
   "display_name": "Python 3",
   "language": "python",
   "name": "python3"
  },
  "language_info": {
   "codemirror_mode": {
    "name": "ipython",
    "version": 3
   },
   "file_extension": ".py",
   "mimetype": "text/x-python",
   "name": "python",
   "nbconvert_exporter": "python",
   "pygments_lexer": "ipython3",
   "version": "3.7.4"
  }
 },
 "nbformat": 4,
 "nbformat_minor": 4
}
