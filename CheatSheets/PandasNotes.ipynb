{
 "cells": [
  {
   "cell_type": "markdown",
   "metadata": {},
   "source": [
    "Maggie Jacoby, 2020"
   ]
  },
  {
   "cell_type": "markdown",
   "metadata": {},
   "source": [
    "***\n",
    "# Pandas Notes\n",
    "***"
   ]
  },
  {
   "cell_type": "markdown",
   "metadata": {},
   "source": [
    "### Note:\n",
    "For bringing up an interactive console outside jupyter (helpful for copying to output)\n",
    "\n",
    "```%qtconsole```"
   ]
  },
  {
   "cell_type": "markdown",
   "metadata": {},
   "source": [
    "***\n",
    "### Code for creating a toy df \n",
    "\n",
    "look here too: https://realpython.com/python-pandas-tricks/#2-make-toy-data-structures-with-pandas-testing-module\n",
    "\n",
    "```python\n",
    "import pandas as pd\n",
    "import numpy as np\n",
    "\n",
    "ind = pd.Index([pd.Timestamp('2019-03-17'), \n",
    "                pd.Timestamp('2019-03-18'), \n",
    "                pd.Timestamp('2019-03-20'),\n",
    "                pd.Timestamp('2019-03-21'),\n",
    "                pd.Timestamp('2019-03-22'),\n",
    "                pd.Timestamp('2019-03-24'),\n",
    "                pd.Timestamp('2019-03-25')])\n",
    "data = {'col':[25,25,24,3,25,24, np.nan]}\n",
    "df = pd.DataFrame(data, ind)\n",
    "```"
   ]
  },
  {
   "cell_type": "raw",
   "metadata": {},
   "source": [
    "             col\n",
    "2019-03-17  25.0\n",
    "2019-03-18  25.0\n",
    "2019-03-20  24.0\n",
    "2019-03-21   3.0\n",
    "2019-03-22  25.0\n",
    "2019-03-24  24.0\n",
    "2019-03-25   NaN"
   ]
  },
  {
   "cell_type": "markdown",
   "metadata": {},
   "source": [
    "### Make a pandas range of dates\n",
    "\n",
    "```python\n",
    "def make_date_range(day1, dayn = None, t1 = '0000', tn = '2359', f='10s'):\n",
    "    range_start = str(day1 + ' ' + t1[0:2] + ':' + t1[2:4] + ':00')\n",
    "    range_end = str(day1 + ' ' + tn[0:2] + ':' + tn[2:4] + ':50')\n",
    "    date_range = pd.date_range(start=range_start, end=range_end, freq=f)\n",
    "    return date_range   \n",
    "\n",
    "day_one = make_date_range(day1 = '2019-03-17')\n",
    "```"
   ]
  },
  {
   "cell_type": "markdown",
   "metadata": {},
   "source": [
    "## Modifying Dataframes"
   ]
  },
  {
   "cell_type": "markdown",
   "metadata": {},
   "source": [
    "### Change value with .loc\n",
    "\n",
    "\n",
    "```python\n",
    "df.loc[df.rh_percent > limit, 'rh_percent'] = np.NaN\n",
    "```\n",
    "\n",
    "replaces all values in  ```df['rh_percent']``` that are greater than ```limit``` with ```np.NaN``` "
   ]
  },
  {
   "cell_type": "markdown",
   "metadata": {},
   "source": [
    "### Drop or replace values\n",
    "\n",
    "drop the last 24 rows of data from the df or series `Baseline`\n",
    "```python\n",
    "Baseline = Baseline.drop(Baseline.tail(24).index)\n",
    "```\n",
    "\n",
    "drop particular columns:\n",
    "```python\n",
    "df = df.drop(columns = ['str_datetime', 'time'])\n",
    "```\n",
    "\n",
    "or:\n",
    "```python\n",
    "df.drop(columns = ['str_datetime', 'time'], inplace=True)\n",
    "```\n",
    "\n",
    "or, get a subset of a df, without certain columns\n",
    "```python\n",
    "    skip_cols = ['day', 'hr_min_sec', 'hub', 'occupied']\n",
    "    df[df.columns.difference(skip_cols)]\n",
    "```"
   ]
  },
  {
   "cell_type": "markdown",
   "metadata": {},
   "source": [
    "### Subsetting Dataframes\n",
    "\n",
    "```python\n",
    "gt_day = groundTruth.loc[groundTruth['day'] == day]\n",
    "```"
   ]
  },
  {
   "cell_type": "markdown",
   "metadata": {},
   "source": [
    "***\n",
    "## Combining dataframes\n",
    "(join/concat/merge)"
   ]
  },
  {
   "cell_type": "markdown",
   "metadata": {},
   "source": [
    "\n",
    "#### Join together different columns, when indices are the same\n",
    "\n",
    "Includes all indices (\"outer\" merge) - this does for a number of dfs\n",
    "```python\n",
    "dfs = []\n",
    "for hub in hubs:\n",
    "    hub_df = ...\n",
    "    dfs.append(hub_df)\n",
    "df = pd.concat(dfs, axis=1)\n",
    "```\n",
    "handy to add:\n",
    "```python\n",
    "df = df.sort_index()\n",
    "df = df.fillna(0)\n",
    "```"
   ]
  }
 ],
 "metadata": {
  "kernelspec": {
   "display_name": "Python 3",
   "language": "python",
   "name": "python3"
  },
  "language_info": {
   "codemirror_mode": {
    "name": "ipython",
    "version": 3
   },
   "file_extension": ".py",
   "mimetype": "text/x-python",
   "name": "python",
   "nbconvert_exporter": "python",
   "pygments_lexer": "ipython3",
   "version": "3.7.4"
  }
 },
 "nbformat": 4,
 "nbformat_minor": 4
}
