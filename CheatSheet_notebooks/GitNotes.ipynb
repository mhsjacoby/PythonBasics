{
 "cells": [
  {
   "cell_type": "markdown",
   "metadata": {},
   "source": [
    "Maggie Jacoby, 2020"
   ]
  },
  {
   "cell_type": "markdown",
   "metadata": {},
   "source": [
    "***\n",
    "# Git Notes\n",
    "***"
   ]
  },
  {
   "cell_type": "markdown",
   "metadata": {},
   "source": [
    "### Creating a new repo\n",
    "\n",
    "\n",
    "- `$ git init` the directory\n",
    "- `$ git add .` all files\n",
    "- commit\n",
    "- create new repo in github \n",
    "- `$ git remote add origin <github location>`\n",
    "- `$ git push -u origin master`\n",
    "\n",
    "\n",
    "ref: https://kbroman.org/github_tutorial/pages/init.html"
   ]
  },
  {
   "cell_type": "markdown",
   "metadata": {},
   "source": [
    "### Remove and stop tracking files in a repo (eg, .DS_Store)  \n",
    "\n",
    "- Create a .gitignore file and add all files to untrack\n",
    "- push changes\n",
    "-\n",
    "```\n",
    "$ git rm -r --cached .\n",
    "```\n",
    "- add and commit\n",
    "\n",
    "ref:  \n",
    "http://www.codeblocq.com/2016/01/Untrack-files-already-added-to-git-repository-based-on-gitignore/  \n",
    "https://www.pluralsight.com/guides/how-to-use-gitignore-file )\n",
    "\n",
    "### Files to add to .gitignore\n",
    "\n",
    "```\n",
    "*/.ipynb_checkpoints\n",
    "*/.DS_Store\n",
    ".DS_Store\n",
    ".ipynb_checkpoints\n",
    ".gitignore\n",
    "__pycache__\n",
    ".gitattributes\n",
    "```\n",
    "\n",
    "\n",
    "### Add to .gitattributes\n",
    "```\n",
    "*.ipynb linguist-language=Python\n",
    "```\n"
   ]
  },
  {
   "cell_type": "markdown",
   "metadata": {},
   "source": [
    "***\n",
    "## Branching"
   ]
  },
  {
   "cell_type": "markdown",
   "metadata": {},
   "source": [
    "### Make and switch to new branch\n",
    "\n",
    "```\n",
    "$ git checkout -b check_pi\n",
    "```\n",
    "ref: https://git-scm.com/book/en/v2/Git-Branching-Basic-Branching-and-Merging"
   ]
  },
  {
   "cell_type": "markdown",
   "metadata": {},
   "source": [
    "### Merging\n",
    "\n",
    "After updating branch `Maggie-Edits`:\n",
    "\n",
    "\n",
    "```\n",
    "    $ git checkout master\n",
    "    $ git merge Maggie-Edits\n",
    "```\n",
    "\n",
    "\n",
    "If you start a merge and then want to cancel it: `$ git merge --abort`\n",
    "\n",
    "ref: https://www.oreilly.com/library/view/git-pocket-guide/9781449327507/ch07.html"
   ]
  },
  {
   "cell_type": "markdown",
   "metadata": {},
   "source": [
    "### Delete branch\n",
    "(locally)\n",
    "\n",
    "```\n",
    "$ git branch --delete <branch> \n",
    "```\n",
    "\n",
    "ref: https://gist.github.com/cmatskas/454e3369e6963a1c8c89"
   ]
  },
  {
   "cell_type": "code",
   "execution_count": null,
   "metadata": {},
   "outputs": [],
   "source": []
  }
 ],
 "metadata": {
  "kernelspec": {
   "display_name": "Python 3",
   "language": "python",
   "name": "python3"
  },
  "language_info": {
   "codemirror_mode": {
    "name": "ipython",
    "version": 3
   },
   "file_extension": ".py",
   "mimetype": "text/x-python",
   "name": "python",
   "nbconvert_exporter": "python",
   "pygments_lexer": "ipython3",
   "version": "3.7.4"
  }
 },
 "nbformat": 4,
 "nbformat_minor": 4
}
